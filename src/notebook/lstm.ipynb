{
 "cells": [
  {
   "cell_type": "code",
   "execution_count": null,
   "metadata": {},
   "outputs": [],
   "source": [
    "import numpy as np\n",
    "import pandas as pd\n",
    "import matplotlib.pyplot as plt\n",
    "from sklearn.preprocessing import MinMaxScaler\n",
    "from sklearn.model_selection import train_test_split\n",
    "from sklearn.metrics import mean_squared_error, mean_absolute_error \n",
    "from tensorflow.keras.models import Sequential\n",
    "from tensorflow.keras.layers import Dense, LSTM\n",
    "from tensorflow.keras.optimizers import Adam\n",
    "from statsmodels.tsa.holtwinters import ExponentialSmoothing"
   ]
  },
  {
   "cell_type": "code",
   "execution_count": null,
   "metadata": {},
   "outputs": [],
   "source": [
    "# Define the date range\n",
    "date_range = pd.date_range(start='2019-01-01', end='2023-12-01', freq='MS')"
   ]
  },
  {
   "cell_type": "code",
   "execution_count": null,
   "metadata": {},
   "outputs": [],
   "source": [
    "# Generate more varied balances using random walk\n",
    "np.random.seed(42)\n",
    "balances = 100000 + np.random.randn(len(date_range)).cumsum() * 5000 + np.linspace(0, 200000, len(date_range))"
   ]
  },
  {
   "cell_type": "code",
   "execution_count": null,
   "metadata": {},
   "outputs": [],
   "source": [
    "# Create the DataFrame\n",
    "df = pd.DataFrame({'Date': date_range, 'Balance': balances})"
   ]
  },
  {
   "cell_type": "code",
   "execution_count": null,
   "metadata": {},
   "outputs": [],
   "source": [
    "\n",
    "# Function to create dataset with look-back for LSTM \n",
    "def create_dataset(dataset, look_back=1):\n",
    "    X, Y = [], []\n",
    "    for i in range(len(dataset)-look_back):\n",
    "        a = dataset[i:(i+look_back)] \n",
    "        X.append(a)\n",
    "        Y.append(dataset[i + look_back])\n",
    "    return np.array(X), np.array(Y)"
   ]
  },
  {
   "cell_type": "code",
   "execution_count": null,
   "metadata": {},
   "outputs": [],
   "source": [
    "# Normalize the dataset\n",
    "scaler = MinMaxScaler(feature_range=(0, 1))\n",
    "df['Balance'] = scaler.fit_transform(df['Balance'].values.reshape(-1, 1))"
   ]
  },
  {
   "cell_type": "code",
   "execution_count": null,
   "metadata": {},
   "outputs": [],
   "source": [
    "# Prepare the dataset for LSTM\n",
    "look_back = 12\n",
    "X, Y = create_dataset(df['Balance'].values, look_back)"
   ]
  },
  {
   "cell_type": "code",
   "execution_count": null,
   "metadata": {},
   "outputs": [],
   "source": [
    "# Split the dataset into training and testing sets (80-20 split)\n",
    "X_train, X_test, Y_train, Y_test = train_test_split(X, Y, test_size=0.2, shuffle=False)"
   ]
  },
  {
   "cell_type": "code",
   "execution_count": null,
   "metadata": {},
   "outputs": [],
   "source": [
    "# Reshape input to be [samples, time steps, features]\n",
    "X_train = np.reshape(X_train, (X_train.shape[0], 1, X_train.shape[1])) \n",
    "X_test = np.reshape(X_test, (X_test.shape[0], 1, X_test.shape[1]))"
   ]
  },
  {
   "cell_type": "code",
   "execution_count": null,
   "metadata": {},
   "outputs": [],
   "source": [
    "# Build LSTM model\n",
    "model = Sequential()\n",
    "model.add(LSTM(units=50, input_shape=(1, look_back))) \n",
    "model.add(Dense(units=1))\n",
    "model.compile(optimizer=Adam(learning_rate=0.001), loss='mean_squared_error')"
   ]
  },
  {
   "cell_type": "code",
   "execution_count": null,
   "metadata": {},
   "outputs": [],
   "source": [
    "# Train the model\n",
    "history = model.fit(X_train, Y_train, epochs=100, batch_size=1, validation_data=(X_test, Y_test), verbose=1)"
   ]
  },
  {
   "cell_type": "code",
   "execution_count": null,
   "metadata": {},
   "outputs": [],
   "source": [
    "# Predict for each month in 2024\n",
    "months_in_2024 = pd.date_range(start='2024-01-01', end='2024-12-01', freq='MS')"
   ]
  },
  {
   "cell_type": "code",
   "execution_count": null,
   "metadata": {},
   "outputs": [],
   "source": [
    "# Prepare data for predictions\n",
    "X_future = df[-look_back:].drop('Date', axis=1).values.reshape(1, 1, look_back) # Use last look_back months from original data"
   ]
  },
  {
   "cell_type": "code",
   "execution_count": null,
   "metadata": {},
   "outputs": [],
   "source": [
    "# Predict using the model\n",
    "Y_future = []\n",
    "predictions_2024_lstm = pd.DataFrame(columns=['Date', 'Predicted_Balance']) # Initialize DataFrame for predictions\n",
    "for i in range(len(months_in_2024)):\n",
    "    predicted_value = model.predict(X_future)\n",
    "    Y_future.append(predicted_value[0, 0])\n",
    "    X_future = np.append(X_future[:, :, 1:], predicted_value).reshape(1, 1, look_back)\n",
    "    # Append predicted balance and corresponding date to DataFrame\n",
    "    new_prediction = pd.DataFrame({'Date': [months_in_2024[i]], 'Predicted_Balance': [predicted_value[0, 0]]}) \n",
    "    predictions_2024_lstm = pd.concat([predictions_2024_lstm, new_prediction], ignore_index=True)\n"
   ]
  },
  {
   "cell_type": "code",
   "execution_count": null,
   "metadata": {},
   "outputs": [],
   "source": [
    "# Inverse transform the predicted values to original scale\n",
    "Y_future = scaler.inverse_transform(np.array(Y_future).reshape(-1, 1))\n",
    "# Print or use Y_future as needed for predictions for each month in 2024 \n",
    "for month, balance in zip(months_in_2024, Y_future):\n",
    "    print(f\"LSTM Predicted balance for {month.strftime('%Y-%m')}: ${balance[0]:,.2f}\") "
   ]
  },
  {
   "cell_type": "code",
   "execution_count": null,
   "metadata": {},
   "outputs": [],
   "source": [
    "# Evaluate LSTM on test data\n",
    "y_pred = model.predict(X_test)\n",
    "y_pred_inv = scaler.inverse_transform(y_pred.reshape(-1, 1)) \n",
    "y_test_inv = scaler.inverse_transform(Y_test.reshape(-1, 1))"
   ]
  },
  {
   "cell_type": "code",
   "execution_count": null,
   "metadata": {},
   "outputs": [],
   "source": [
    "# Calculate MSE, MAE, and RMSE for LSTM\n",
    "mse_lstm = mean_squared_error(y_test_inv, y_pred_inv) \n",
    "mae_lstm = mean_absolute_error(y_test_inv, y_pred_inv) \n",
    "rmse_lstm = np.sqrt(mse_lstm)\n",
    "print(f\"LSTM Mean Squared Error (MSE) on test data: {mse_lstm:.2f}\") \n",
    "print(f\"LSTM Mean Absolute Error (MAE) on test data: {mae_lstm:.2f}\") \n",
    "print(f\"LSTM Root Mean Squared Error (RMSE) on test data: {rmse_lstm:.2f}\")"
   ]
  },
  {
   "cell_type": "code",
   "execution_count": null,
   "metadata": {},
   "outputs": [],
   "source": [
    "# Exponential Smoothing\n",
    "model_es = ExponentialSmoothing(df['Balance'], seasonal='add', seasonal_periods=12).fit()"
   ]
  },
  {
   "cell_type": "code",
   "execution_count": null,
   "metadata": {},
   "outputs": [],
   "source": [
    "# Predict for each month in 2024 using Exponential Smoothing \n",
    "predictions_2024_es = model_es.forecast(steps=len(months_in_2024))\n",
    "# Inverse transform the predictions (since the original data was normalized) \n",
    "predictions_2024_es_inv = scaler.inverse_transform(predictions_2024_es.values.reshape(-1, 1))\n",
    "# Print or use predictions_2024_es_inv as needed for predictions for each month in 2024 \n",
    "for month, balance in zip(months_in_2024, predictions_2024_es_inv):\n",
    "    print(f\"Exponential Smoothing Predicted balance for {month.strftime('%Y-%m')}: ${balance[0]:,.2f}\")"
   ]
  },
  {
   "cell_type": "code",
   "execution_count": null,
   "metadata": {},
   "outputs": [],
   "source": [
    "# Evaluate Exponential Smoothing on test data\n",
    "y_test_es_inv = scaler.inverse_transform(model_es.fittedvalues[-len(Y_test):].values.reshape(-1, 1))\n",
    "\n",
    "# Calculate MSE, MAE, and RMSE for Exponential Smoothing \n",
    "mse_es = mean_squared_error(y_test_inv, y_test_es_inv) \n",
    "mae_es = mean_absolute_error(y_test_inv, y_test_es_inv) \n",
    "rmse_es = np.sqrt(mse_es)\n",
    "print(f\"Exponential Smoothing Mean Squared Error (MSE) on test data: {mse_es:.2f}\") \n",
    "print(f\"Exponential Smoothing Mean Absolute Error (MAE) on test data: {mae_es:.2f}\") \n",
    "print(f\"Exponential Smoothing Root Mean Squared Error (RMSE) on test data: {rmse_es:.2f}\")\n"
   ]
  },
  {
   "cell_type": "code",
   "execution_count": null,
   "metadata": {},
   "outputs": [],
   "source": [
    "# Visualize actual vs predicted for LSTM\n",
    "plt.figure(figsize=(14, 7))\n",
    "plt.plot(df['Date'][-len(y_test_inv):], y_test_inv, label='Actual') \n",
    "plt.plot(df['Date'][-len(y_test_inv):], y_pred_inv, label='LSTM Predicted') \n",
    "plt.title('Actual vs LSTM Predicted Balance')\n",
    "plt.xlabel('Date') \n",
    "plt.ylabel('Balance')\n",
    "plt.legend() \n",
    "plt.grid(True) \n",
    "plt.show()"
   ]
  },
  {
   "cell_type": "code",
   "execution_count": null,
   "metadata": {},
   "outputs": [],
   "source": [
    "\n",
    "# Visualize predicted values for 2024 using LSTM\n",
    "plt.figure(figsize=(14, 7))\n",
    "plt.plot(df['Date'], df['Balance'], label='Historical Balance')\n",
    "\n",
    "plt.plot(predictions_2024_lstm['Date'], predictions_2024_lstm['Predicted_Balance'], marker='o', linestyle='-', color='r', label='LSTM Predicted Balance')\n",
    "plt.title('LSTM Predicted Balance for 2024')\n",
    "plt.xlabel('Date') \n",
    "plt.ylabel('Balance') \n",
    "plt.legend() \n",
    "plt.grid(True) \n",
    "plt.show()\n"
   ]
  },
  {
   "cell_type": "code",
   "execution_count": null,
   "metadata": {},
   "outputs": [],
   "source": [
    "\n",
    "# Visualize actual vs predicted for Exponential Smoothing\n",
    "plt.figure(figsize=(14, 7))\n",
    "plt.plot(df['Date'][-len(y_test_inv):], y_test_inv, label='Actual') \n",
    "plt.plot(df['Date'][-len(y_test_inv):], y_test_es_inv, label='Exponential Smoothing Predicted') \n",
    "plt.title('Actual vs Exponential Smoothing Predicted Balance')\n",
    "plt.xlabel('Date') \n",
    "plt.ylabel('Balance') \n",
    "plt.legend() \n",
    "plt.grid(True) \n",
    "plt.show()\n"
   ]
  },
  {
   "cell_type": "code",
   "execution_count": null,
   "metadata": {},
   "outputs": [],
   "source": [
    "\n",
    "# Visualize predicted values for 2024 using Exponential Smoothing\n",
    "plt.figure(figsize=(14, 7))\n",
    "plt.plot(df['Date'], df['Balance'], label='Historical Balance')\n",
    "plt.plot(months_in_2024, predictions_2024_es_inv, marker='o', linestyle='-', color='g', label='Exponential Smoothing Predicted Balance for 2024')\n",
    "plt.title('Exponential Smoothing Predicted Balance for 2024')\n",
    "plt.xlabel('Date') \n",
    "plt.ylabel('Balance') \n",
    "plt.legend() \n",
    "plt.grid(True) \n",
    "plt.show()"
   ]
  },
  {
   "cell_type": "code",
   "execution_count": null,
   "metadata": {},
   "outputs": [],
   "source": [
    "\n",
    "# Visualize actual vs predicted for Exponential Smoothing\n",
    "plt.figure(figsize=(14, 7))\n",
    "plt.plot(df['Date'][-len(y_test_inv):], y_test_inv, label='Actual') \n",
    "plt.plot(df['Date'][-len(y_test_inv):], y_test_es_inv, label='Exponential Smoothing Predicted') \n",
    "plt.title('Actual vs Exponential Smoothing Predicted Balance')\n",
    "plt.xlabel('Date') \n",
    "plt.ylabel('Balance') \n",
    "plt.legend() \n",
    "plt.grid(True) \n",
    "plt.show()\n"
   ]
  },
  {
   "cell_type": "code",
   "execution_count": null,
   "metadata": {},
   "outputs": [],
   "source": [
    "\n",
    "# Visualize predicted values for 2024 using Exponential Smoothing\n",
    "plt.figure(figsize=(14, 7))\n",
    "plt.plot(df['Date'], df['Balance'], label='Historical Balance')\n",
    "plt.plot(months_in_2024, predictions_2024_es_inv, marker='o', linestyle='-', color='g', label='Exponential Smoothing Predicted Balance for 2024')\n",
    "plt.title('Exponential Smoothing Predicted Balance for 2024')\n",
    "plt.xlabel('Date') \n",
    "plt.ylabel('Balance') \n",
    "plt.legend() \n",
    "plt.grid(True) \n",
    "plt.show()"
   ]
  },
  {
   "cell_type": "markdown",
   "metadata": {},
   "source": []
  }
 ],
 "metadata": {
  "language_info": {
   "name": "python"
  }
 },
 "nbformat": 4,
 "nbformat_minor": 2
}
